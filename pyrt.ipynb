{
 "cells": [
  {
   "cell_type": "code",
   "execution_count": 1,
   "metadata": {},
   "outputs": [],
   "source": [
    "import numpy as np\n",
    "import PIL.Image"
   ]
  },
  {
   "cell_type": "code",
   "execution_count": 41,
   "metadata": {},
   "outputs": [],
   "source": [
    "class Vec3:\n",
    "    def __init__(self, x, y, z):\n",
    "        self.__vec = np.array([x,y,z], dtype=np.float)\n",
    "\n",
    "    @property\n",
    "    def vec(self):\n",
    "        return self.__vec\n",
    "\n",
    "    @classmethod\n",
    "    def from_array(cls, v):\n",
    "        return Vec3(v[0], v[1], v[2])\n",
    "\n",
    "    def __add__(self, other):\n",
    "        return Vec3.from_array(self.__vec + other.__vec)\n",
    "\n",
    "    def __sub__(self, other):\n",
    "        return Vec3.from_array(self.__vec - other.__vec)\n",
    "\n",
    "    def __mul__(self, other):\n",
    "        return Vec3.from_array(self.__vec * other)\n",
    "\n",
    "    def __rmul__(self, other):\n",
    "        return Vec3.from_array(self.__vec * other)\n",
    "\n",
    "    def __truediv__(self, other):\n",
    "        return Vec3.from_array(self.__vec / other)\n",
    "\n",
    "    def normalize(self):\n",
    "        return Vec3.from_array(self.__vec / np.linalg.norm(self.__vec))\n",
    "\n",
    "    @property\n",
    "    def x(self):\n",
    "        return self.__vec[0]\n",
    "    \n",
    "    @property\n",
    "    def y(self):\n",
    "        return self.__vec[1]\n",
    "\n",
    "    @property\n",
    "    def z(self):\n",
    "        return self.__vec[2]\n",
    "\n",
    "    @property\n",
    "    def r(self):\n",
    "        return (int)(self.x * 255.0)\n",
    "\n",
    "    @property\n",
    "    def g(self):\n",
    "        return (int)(self.y * 255.0)\n",
    "    \n",
    "    @property\n",
    "    def b(self):\n",
    "        return (int)(self.z * 255.0)"
   ]
  },
  {
   "cell_type": "code",
   "execution_count": 42,
   "metadata": {},
   "outputs": [],
   "source": [
    "class Ray:\n",
    "    def __init__(self, orig=Vec3(0,0,0), d=Vec3(1,0,0)):\n",
    "        self.__origin = orig\n",
    "        self.__direction = d\n",
    "\n",
    "    @property\n",
    "    def origin(self):\n",
    "        return self.__origin\n",
    "\n",
    "    @property\n",
    "    def direction(self):\n",
    "        return self.__direction\n",
    "\n",
    "    def point_at(self, t):\n",
    "        return self.__origin + (t * self.__direction)\n",
    "        "
   ]
  },
  {
   "cell_type": "code",
   "execution_count": 43,
   "metadata": {},
   "outputs": [],
   "source": [
    "def color(ray):\n",
    "    d = ray.direction.normalize()\n",
    "    t = 0.5 * (d.y + 1.0)\n",
    "    return ((1.0 - t)*Vec3(1.0, 1.0, 1.0)) + (t*Vec3(0.5, 0.7, 1.0))"
   ]
  },
  {
   "cell_type": "code",
   "execution_count": 44,
   "metadata": {},
   "outputs": [
    {
     "output_type": "display_data",
     "data": {
      "text/plain": "<Figure size 432x288 with 1 Axes>",
      "image/svg+xml": "<?xml version=\"1.0\" encoding=\"utf-8\" standalone=\"no\"?>\n<!DOCTYPE svg PUBLIC \"-//W3C//DTD SVG 1.1//EN\"\n  \"http://www.w3.org/Graphics/SVG/1.1/DTD/svg11.dtd\">\n<!-- Created with matplotlib (https://matplotlib.org/) -->\n<svg height=\"251.501264pt\" version=\"1.1\" viewBox=\"0 0 375.2875 251.501264\" width=\"375.2875pt\" xmlns=\"http://www.w3.org/2000/svg\" xmlns:xlink=\"http://www.w3.org/1999/xlink\">\n <defs>\n  <style type=\"text/css\">\n*{stroke-linecap:butt;stroke-linejoin:round;}\n  </style>\n </defs>\n <g id=\"figure_1\">\n  <g id=\"patch_1\">\n   <path d=\"M 0 251.501264 \nL 375.2875 251.501264 \nL 375.2875 0 \nL 0 0 \nz\n\" style=\"fill:none;\"/>\n  </g>\n  <g id=\"axes_1\">\n   <g id=\"patch_2\">\n    <path d=\"M 33.2875 227.623139 \nL 368.0875 227.623139 \nL 368.0875 10.183139 \nL 33.2875 10.183139 \nz\n\" style=\"fill:#ffffff;\"/>\n   </g>\n   <g id=\"matplotlib.axis_1\">\n    <g id=\"xtick_1\">\n     <g id=\"line2d_1\">\n      <defs>\n       <path d=\"M 0 0 \nL 0 3.5 \n\" id=\"m649e0dbef5\" style=\"stroke:#000000;stroke-width:0.8;\"/>\n      </defs>\n      <g>\n       <use style=\"stroke:#000000;stroke-width:0.8;\" x=\"79.249483\" xlink:href=\"#m649e0dbef5\" y=\"227.623139\"/>\n      </g>\n     </g>\n     <g id=\"text_1\">\n      <!-- −40 -->\n      <defs>\n       <path d=\"M 10.59375 35.5 \nL 73.1875 35.5 \nL 73.1875 27.203125 \nL 10.59375 27.203125 \nz\n\" id=\"DejaVuSans-8722\"/>\n       <path d=\"M 37.796875 64.3125 \nL 12.890625 25.390625 \nL 37.796875 25.390625 \nz\nM 35.203125 72.90625 \nL 47.609375 72.90625 \nL 47.609375 25.390625 \nL 58.015625 25.390625 \nL 58.015625 17.1875 \nL 47.609375 17.1875 \nL 47.609375 0 \nL 37.796875 0 \nL 37.796875 17.1875 \nL 4.890625 17.1875 \nL 4.890625 26.703125 \nz\n\" id=\"DejaVuSans-52\"/>\n       <path d=\"M 31.78125 66.40625 \nQ 24.171875 66.40625 20.328125 58.90625 \nQ 16.5 51.421875 16.5 36.375 \nQ 16.5 21.390625 20.328125 13.890625 \nQ 24.171875 6.390625 31.78125 6.390625 \nQ 39.453125 6.390625 43.28125 13.890625 \nQ 47.125 21.390625 47.125 36.375 \nQ 47.125 51.421875 43.28125 58.90625 \nQ 39.453125 66.40625 31.78125 66.40625 \nz\nM 31.78125 74.21875 \nQ 44.046875 74.21875 50.515625 64.515625 \nQ 56.984375 54.828125 56.984375 36.375 \nQ 56.984375 17.96875 50.515625 8.265625 \nQ 44.046875 -1.421875 31.78125 -1.421875 \nQ 19.53125 -1.421875 13.0625 8.265625 \nQ 6.59375 17.96875 6.59375 36.375 \nQ 6.59375 54.828125 13.0625 64.515625 \nQ 19.53125 74.21875 31.78125 74.21875 \nz\n\" id=\"DejaVuSans-48\"/>\n      </defs>\n      <g transform=\"translate(68.69714 242.221576)scale(0.1 -0.1)\">\n       <use xlink:href=\"#DejaVuSans-8722\"/>\n       <use x=\"83.789062\" xlink:href=\"#DejaVuSans-52\"/>\n       <use x=\"147.412109\" xlink:href=\"#DejaVuSans-48\"/>\n      </g>\n     </g>\n    </g>\n    <g id=\"xtick_2\">\n     <g id=\"line2d_2\">\n      <g>\n       <use style=\"stroke:#000000;stroke-width:0.8;\" x=\"140.737087\" xlink:href=\"#m649e0dbef5\" y=\"227.623139\"/>\n      </g>\n     </g>\n     <g id=\"text_2\">\n      <!-- −20 -->\n      <defs>\n       <path d=\"M 19.1875 8.296875 \nL 53.609375 8.296875 \nL 53.609375 0 \nL 7.328125 0 \nL 7.328125 8.296875 \nQ 12.9375 14.109375 22.625 23.890625 \nQ 32.328125 33.6875 34.8125 36.53125 \nQ 39.546875 41.84375 41.421875 45.53125 \nQ 43.3125 49.21875 43.3125 52.78125 \nQ 43.3125 58.59375 39.234375 62.25 \nQ 35.15625 65.921875 28.609375 65.921875 \nQ 23.96875 65.921875 18.8125 64.3125 \nQ 13.671875 62.703125 7.8125 59.421875 \nL 7.8125 69.390625 \nQ 13.765625 71.78125 18.9375 73 \nQ 24.125 74.21875 28.421875 74.21875 \nQ 39.75 74.21875 46.484375 68.546875 \nQ 53.21875 62.890625 53.21875 53.421875 \nQ 53.21875 48.921875 51.53125 44.890625 \nQ 49.859375 40.875 45.40625 35.40625 \nQ 44.1875 33.984375 37.640625 27.21875 \nQ 31.109375 20.453125 19.1875 8.296875 \nz\n\" id=\"DejaVuSans-50\"/>\n      </defs>\n      <g transform=\"translate(130.184743 242.221576)scale(0.1 -0.1)\">\n       <use xlink:href=\"#DejaVuSans-8722\"/>\n       <use x=\"83.789062\" xlink:href=\"#DejaVuSans-50\"/>\n       <use x=\"147.412109\" xlink:href=\"#DejaVuSans-48\"/>\n      </g>\n     </g>\n    </g>\n    <g id=\"xtick_3\">\n     <g id=\"line2d_3\">\n      <g>\n       <use style=\"stroke:#000000;stroke-width:0.8;\" x=\"202.22469\" xlink:href=\"#m649e0dbef5\" y=\"227.623139\"/>\n      </g>\n     </g>\n     <g id=\"text_3\">\n      <!-- 0 -->\n      <g transform=\"translate(199.04344 242.221576)scale(0.1 -0.1)\">\n       <use xlink:href=\"#DejaVuSans-48\"/>\n      </g>\n     </g>\n    </g>\n    <g id=\"xtick_4\">\n     <g id=\"line2d_4\">\n      <g>\n       <use style=\"stroke:#000000;stroke-width:0.8;\" x=\"263.712293\" xlink:href=\"#m649e0dbef5\" y=\"227.623139\"/>\n      </g>\n     </g>\n     <g id=\"text_4\">\n      <!-- 20 -->\n      <g transform=\"translate(257.349793 242.221576)scale(0.1 -0.1)\">\n       <use xlink:href=\"#DejaVuSans-50\"/>\n       <use x=\"63.623047\" xlink:href=\"#DejaVuSans-48\"/>\n      </g>\n     </g>\n    </g>\n    <g id=\"xtick_5\">\n     <g id=\"line2d_5\">\n      <g>\n       <use style=\"stroke:#000000;stroke-width:0.8;\" x=\"325.199897\" xlink:href=\"#m649e0dbef5\" y=\"227.623139\"/>\n      </g>\n     </g>\n     <g id=\"text_5\">\n      <!-- 40 -->\n      <g transform=\"translate(318.837397 242.221576)scale(0.1 -0.1)\">\n       <use xlink:href=\"#DejaVuSans-52\"/>\n       <use x=\"63.623047\" xlink:href=\"#DejaVuSans-48\"/>\n      </g>\n     </g>\n    </g>\n   </g>\n   <g id=\"matplotlib.axis_2\">\n    <g id=\"ytick_1\">\n     <g id=\"line2d_6\">\n      <defs>\n       <path d=\"M 0 0 \nL -3.5 0 \n\" id=\"mcf876a9b73\" style=\"stroke:#000000;stroke-width:0.8;\"/>\n      </defs>\n      <g>\n       <use style=\"stroke:#000000;stroke-width:0.8;\" x=\"33.2875\" xlink:href=\"#mcf876a9b73\" y=\"192.350345\"/>\n      </g>\n     </g>\n     <g id=\"text_6\">\n      <!-- 160 -->\n      <defs>\n       <path d=\"M 12.40625 8.296875 \nL 28.515625 8.296875 \nL 28.515625 63.921875 \nL 10.984375 60.40625 \nL 10.984375 69.390625 \nL 28.421875 72.90625 \nL 38.28125 72.90625 \nL 38.28125 8.296875 \nL 54.390625 8.296875 \nL 54.390625 0 \nL 12.40625 0 \nz\n\" id=\"DejaVuSans-49\"/>\n       <path d=\"M 33.015625 40.375 \nQ 26.375 40.375 22.484375 35.828125 \nQ 18.609375 31.296875 18.609375 23.390625 \nQ 18.609375 15.53125 22.484375 10.953125 \nQ 26.375 6.390625 33.015625 6.390625 \nQ 39.65625 6.390625 43.53125 10.953125 \nQ 47.40625 15.53125 47.40625 23.390625 \nQ 47.40625 31.296875 43.53125 35.828125 \nQ 39.65625 40.375 33.015625 40.375 \nz\nM 52.59375 71.296875 \nL 52.59375 62.3125 \nQ 48.875 64.0625 45.09375 64.984375 \nQ 41.3125 65.921875 37.59375 65.921875 \nQ 27.828125 65.921875 22.671875 59.328125 \nQ 17.53125 52.734375 16.796875 39.40625 \nQ 19.671875 43.65625 24.015625 45.921875 \nQ 28.375 48.1875 33.59375 48.1875 \nQ 44.578125 48.1875 50.953125 41.515625 \nQ 57.328125 34.859375 57.328125 23.390625 \nQ 57.328125 12.15625 50.6875 5.359375 \nQ 44.046875 -1.421875 33.015625 -1.421875 \nQ 20.359375 -1.421875 13.671875 8.265625 \nQ 6.984375 17.96875 6.984375 36.375 \nQ 6.984375 53.65625 15.1875 63.9375 \nQ 23.390625 74.21875 37.203125 74.21875 \nQ 40.921875 74.21875 44.703125 73.484375 \nQ 48.484375 72.75 52.59375 71.296875 \nz\n\" id=\"DejaVuSans-54\"/>\n      </defs>\n      <g transform=\"translate(7.2 196.149563)scale(0.1 -0.1)\">\n       <use xlink:href=\"#DejaVuSans-49\"/>\n       <use x=\"63.623047\" xlink:href=\"#DejaVuSans-54\"/>\n       <use x=\"127.246094\" xlink:href=\"#DejaVuSans-48\"/>\n      </g>\n     </g>\n    </g>\n    <g id=\"ytick_2\">\n     <g id=\"line2d_7\">\n      <g>\n       <use style=\"stroke:#000000;stroke-width:0.8;\" x=\"33.2875\" xlink:href=\"#mcf876a9b73\" y=\"156.08012\"/>\n      </g>\n     </g>\n     <g id=\"text_7\">\n      <!-- 180 -->\n      <defs>\n       <path d=\"M 31.78125 34.625 \nQ 24.75 34.625 20.71875 30.859375 \nQ 16.703125 27.09375 16.703125 20.515625 \nQ 16.703125 13.921875 20.71875 10.15625 \nQ 24.75 6.390625 31.78125 6.390625 \nQ 38.8125 6.390625 42.859375 10.171875 \nQ 46.921875 13.96875 46.921875 20.515625 \nQ 46.921875 27.09375 42.890625 30.859375 \nQ 38.875 34.625 31.78125 34.625 \nz\nM 21.921875 38.8125 \nQ 15.578125 40.375 12.03125 44.71875 \nQ 8.5 49.078125 8.5 55.328125 \nQ 8.5 64.0625 14.71875 69.140625 \nQ 20.953125 74.21875 31.78125 74.21875 \nQ 42.671875 74.21875 48.875 69.140625 \nQ 55.078125 64.0625 55.078125 55.328125 \nQ 55.078125 49.078125 51.53125 44.71875 \nQ 48 40.375 41.703125 38.8125 \nQ 48.828125 37.15625 52.796875 32.3125 \nQ 56.78125 27.484375 56.78125 20.515625 \nQ 56.78125 9.90625 50.3125 4.234375 \nQ 43.84375 -1.421875 31.78125 -1.421875 \nQ 19.734375 -1.421875 13.25 4.234375 \nQ 6.78125 9.90625 6.78125 20.515625 \nQ 6.78125 27.484375 10.78125 32.3125 \nQ 14.796875 37.15625 21.921875 38.8125 \nz\nM 18.3125 54.390625 \nQ 18.3125 48.734375 21.84375 45.5625 \nQ 25.390625 42.390625 31.78125 42.390625 \nQ 38.140625 42.390625 41.71875 45.5625 \nQ 45.3125 48.734375 45.3125 54.390625 \nQ 45.3125 60.0625 41.71875 63.234375 \nQ 38.140625 66.40625 31.78125 66.40625 \nQ 25.390625 66.40625 21.84375 63.234375 \nQ 18.3125 60.0625 18.3125 54.390625 \nz\n\" id=\"DejaVuSans-56\"/>\n      </defs>\n      <g transform=\"translate(7.2 159.879338)scale(0.1 -0.1)\">\n       <use xlink:href=\"#DejaVuSans-49\"/>\n       <use x=\"63.623047\" xlink:href=\"#DejaVuSans-56\"/>\n       <use x=\"127.246094\" xlink:href=\"#DejaVuSans-48\"/>\n      </g>\n     </g>\n    </g>\n    <g id=\"ytick_3\">\n     <g id=\"line2d_8\">\n      <g>\n       <use style=\"stroke:#000000;stroke-width:0.8;\" x=\"33.2875\" xlink:href=\"#mcf876a9b73\" y=\"119.809894\"/>\n      </g>\n     </g>\n     <g id=\"text_8\">\n      <!-- 200 -->\n      <g transform=\"translate(7.2 123.609113)scale(0.1 -0.1)\">\n       <use xlink:href=\"#DejaVuSans-50\"/>\n       <use x=\"63.623047\" xlink:href=\"#DejaVuSans-48\"/>\n       <use x=\"127.246094\" xlink:href=\"#DejaVuSans-48\"/>\n      </g>\n     </g>\n    </g>\n    <g id=\"ytick_4\">\n     <g id=\"line2d_9\">\n      <g>\n       <use style=\"stroke:#000000;stroke-width:0.8;\" x=\"33.2875\" xlink:href=\"#mcf876a9b73\" y=\"83.539669\"/>\n      </g>\n     </g>\n     <g id=\"text_9\">\n      <!-- 220 -->\n      <g transform=\"translate(7.2 87.338888)scale(0.1 -0.1)\">\n       <use xlink:href=\"#DejaVuSans-50\"/>\n       <use x=\"63.623047\" xlink:href=\"#DejaVuSans-50\"/>\n       <use x=\"127.246094\" xlink:href=\"#DejaVuSans-48\"/>\n      </g>\n     </g>\n    </g>\n    <g id=\"ytick_5\">\n     <g id=\"line2d_10\">\n      <g>\n       <use style=\"stroke:#000000;stroke-width:0.8;\" x=\"33.2875\" xlink:href=\"#mcf876a9b73\" y=\"47.269444\"/>\n      </g>\n     </g>\n     <g id=\"text_10\">\n      <!-- 240 -->\n      <g transform=\"translate(7.2 51.068663)scale(0.1 -0.1)\">\n       <use xlink:href=\"#DejaVuSans-50\"/>\n       <use x=\"63.623047\" xlink:href=\"#DejaVuSans-52\"/>\n       <use x=\"127.246094\" xlink:href=\"#DejaVuSans-48\"/>\n      </g>\n     </g>\n    </g>\n    <g id=\"ytick_6\">\n     <g id=\"line2d_11\">\n      <g>\n       <use style=\"stroke:#000000;stroke-width:0.8;\" x=\"33.2875\" xlink:href=\"#mcf876a9b73\" y=\"10.999219\"/>\n      </g>\n     </g>\n     <g id=\"text_11\">\n      <!-- 260 -->\n      <g transform=\"translate(7.2 14.798437)scale(0.1 -0.1)\">\n       <use xlink:href=\"#DejaVuSans-50\"/>\n       <use x=\"63.623047\" xlink:href=\"#DejaVuSans-54\"/>\n       <use x=\"127.246094\" xlink:href=\"#DejaVuSans-48\"/>\n      </g>\n     </g>\n    </g>\n   </g>\n   <g id=\"line2d_12\">\n    <path clip-path=\"url(#p024b77b9ae)\" d=\"M 48.505682 54.523489 \nL 51.580062 56.337 \nL 54.654442 56.337 \nL 57.728822 58.150511 \nL 60.803202 58.150511 \nL 63.877583 59.964023 \nL 66.951963 59.964023 \nL 70.026343 61.777534 \nL 73.100723 61.777534 \nL 76.175103 63.591045 \nL 79.249483 63.591045 \nL 82.323864 65.404557 \nL 85.398244 67.218068 \nL 88.472624 67.218068 \nL 91.547004 69.031579 \nL 94.621384 70.84509 \nL 97.695764 70.84509 \nL 100.770145 72.658602 \nL 103.844525 74.472113 \nL 106.918905 76.285624 \nL 109.993285 76.285624 \nL 113.067665 78.099135 \nL 116.142045 79.912647 \nL 119.216426 81.726158 \nL 122.290806 83.539669 \nL 125.365186 85.35318 \nL 128.439566 87.166692 \nL 131.513946 88.980203 \nL 134.588326 90.793714 \nL 137.662707 92.607225 \nL 140.737087 94.420737 \nL 143.811467 96.234248 \nL 146.885847 98.047759 \nL 149.960227 99.86127 \nL 153.034607 101.674782 \nL 156.108988 103.488293 \nL 159.183368 105.301804 \nL 162.257748 107.115315 \nL 165.332128 108.928827 \nL 168.406508 112.555849 \nL 171.480888 114.369361 \nL 174.555269 116.182872 \nL 177.629649 117.996383 \nL 180.704029 119.809894 \nL 183.778409 123.436917 \nL 186.852789 125.250428 \nL 189.927169 127.063939 \nL 193.00155 128.877451 \nL 196.07593 132.504473 \nL 199.15031 134.317984 \nL 202.22469 136.131496 \nL 205.29907 139.758518 \nL 208.37345 141.572029 \nL 211.447831 143.385541 \nL 214.522211 145.199052 \nL 217.596591 148.826074 \nL 220.670971 150.639586 \nL 223.745351 152.453097 \nL 226.819731 154.266608 \nL 229.894112 157.893631 \nL 232.968492 159.707142 \nL 236.042872 161.520653 \nL 239.117252 163.334165 \nL 242.191632 165.147676 \nL 245.266012 166.961187 \nL 248.340393 170.58821 \nL 251.414773 172.401721 \nL 254.489153 174.215232 \nL 257.563533 176.028743 \nL 260.637913 177.842255 \nL 263.712293 179.655766 \nL 266.786674 181.469277 \nL 269.861054 183.282788 \nL 272.935434 185.0963 \nL 276.009814 186.909811 \nL 279.084194 188.723322 \nL 282.158574 190.536833 \nL 285.232955 192.350345 \nL 288.307335 192.350345 \nL 291.381715 194.163856 \nL 294.456095 195.977367 \nL 297.530475 197.790878 \nL 300.604855 199.60439 \nL 303.679236 199.60439 \nL 306.753616 201.417901 \nL 309.827996 203.231412 \nL 312.902376 203.231412 \nL 315.976756 205.044924 \nL 319.051136 206.858435 \nL 322.125517 206.858435 \nL 325.199897 208.671946 \nL 328.274277 210.485457 \nL 331.348657 210.485457 \nL 334.423037 212.298969 \nL 337.497417 212.298969 \nL 340.571798 214.11248 \nL 343.646178 214.11248 \nL 346.720558 215.925991 \nL 349.794938 215.925991 \nL 352.869318 217.739502 \n\" style=\"fill:none;stroke:#ff0000;stroke-linecap:square;stroke-width:1.5;\"/>\n   </g>\n   <g id=\"line2d_13\">\n    <path clip-path=\"url(#p024b77b9ae)\" d=\"M 48.505682 41.82891 \nL 51.580062 41.82891 \nL 54.654442 41.82891 \nL 57.728822 43.642421 \nL 60.803202 43.642421 \nL 63.877583 43.642421 \nL 66.951963 43.642421 \nL 70.026343 45.455933 \nL 73.100723 45.455933 \nL 76.175103 45.455933 \nL 79.249483 47.269444 \nL 82.323864 47.269444 \nL 85.398244 49.082955 \nL 88.472624 49.082955 \nL 91.547004 49.082955 \nL 94.621384 50.896466 \nL 97.695764 50.896466 \nL 100.770145 52.709978 \nL 103.844525 52.709978 \nL 106.918905 54.523489 \nL 109.993285 54.523489 \nL 113.067665 56.337 \nL 116.142045 56.337 \nL 119.216426 58.150511 \nL 122.290806 58.150511 \nL 125.365186 59.964023 \nL 128.439566 59.964023 \nL 131.513946 61.777534 \nL 134.588326 61.777534 \nL 137.662707 63.591045 \nL 140.737087 65.404557 \nL 143.811467 65.404557 \nL 146.885847 67.218068 \nL 149.960227 67.218068 \nL 153.034607 69.031579 \nL 156.108988 70.84509 \nL 159.183368 70.84509 \nL 162.257748 72.658602 \nL 165.332128 74.472113 \nL 168.406508 76.285624 \nL 171.480888 76.285624 \nL 174.555269 78.099135 \nL 177.629649 79.912647 \nL 180.704029 79.912647 \nL 183.778409 81.726158 \nL 186.852789 83.539669 \nL 189.927169 85.35318 \nL 193.00155 85.35318 \nL 196.07593 87.166692 \nL 199.15031 88.980203 \nL 202.22469 90.793714 \nL 205.29907 92.607225 \nL 208.37345 92.607225 \nL 211.447831 94.420737 \nL 214.522211 96.234248 \nL 217.596591 98.047759 \nL 220.670971 98.047759 \nL 223.745351 99.86127 \nL 226.819731 101.674782 \nL 229.894112 103.488293 \nL 232.968492 103.488293 \nL 236.042872 105.301804 \nL 239.117252 107.115315 \nL 242.191632 107.115315 \nL 245.266012 108.928827 \nL 248.340393 110.742338 \nL 251.414773 110.742338 \nL 254.489153 112.555849 \nL 257.563533 114.369361 \nL 260.637913 114.369361 \nL 263.712293 116.182872 \nL 266.786674 117.996383 \nL 269.861054 117.996383 \nL 272.935434 119.809894 \nL 276.009814 119.809894 \nL 279.084194 121.623406 \nL 282.158574 121.623406 \nL 285.232955 123.436917 \nL 288.307335 123.436917 \nL 291.381715 125.250428 \nL 294.456095 125.250428 \nL 297.530475 127.063939 \nL 300.604855 127.063939 \nL 303.679236 128.877451 \nL 306.753616 128.877451 \nL 309.827996 130.690962 \nL 312.902376 130.690962 \nL 315.976756 130.690962 \nL 319.051136 132.504473 \nL 322.125517 132.504473 \nL 325.199897 134.317984 \nL 328.274277 134.317984 \nL 331.348657 134.317984 \nL 334.423037 136.131496 \nL 337.497417 136.131496 \nL 340.571798 136.131496 \nL 343.646178 137.945007 \nL 346.720558 137.945007 \nL 349.794938 137.945007 \nL 352.869318 139.758518 \n\" style=\"fill:none;stroke:#008000;stroke-linecap:square;stroke-width:1.5;\"/>\n   </g>\n   <g id=\"line2d_14\">\n    <path clip-path=\"url(#p024b77b9ae)\" d=\"M 48.505682 20.066775 \nL 51.580062 20.066775 \nL 54.654442 20.066775 \nL 57.728822 20.066775 \nL 60.803202 20.066775 \nL 63.877583 20.066775 \nL 66.951963 20.066775 \nL 70.026343 20.066775 \nL 73.100723 20.066775 \nL 76.175103 20.066775 \nL 79.249483 20.066775 \nL 82.323864 20.066775 \nL 85.398244 20.066775 \nL 88.472624 20.066775 \nL 91.547004 20.066775 \nL 94.621384 20.066775 \nL 97.695764 20.066775 \nL 100.770145 20.066775 \nL 103.844525 20.066775 \nL 106.918905 20.066775 \nL 109.993285 20.066775 \nL 113.067665 20.066775 \nL 116.142045 20.066775 \nL 119.216426 20.066775 \nL 122.290806 20.066775 \nL 125.365186 20.066775 \nL 128.439566 20.066775 \nL 131.513946 20.066775 \nL 134.588326 20.066775 \nL 137.662707 20.066775 \nL 140.737087 20.066775 \nL 143.811467 20.066775 \nL 146.885847 20.066775 \nL 149.960227 20.066775 \nL 153.034607 20.066775 \nL 156.108988 20.066775 \nL 159.183368 20.066775 \nL 162.257748 20.066775 \nL 165.332128 20.066775 \nL 168.406508 20.066775 \nL 171.480888 20.066775 \nL 174.555269 20.066775 \nL 177.629649 20.066775 \nL 180.704029 20.066775 \nL 183.778409 20.066775 \nL 186.852789 20.066775 \nL 189.927169 20.066775 \nL 193.00155 20.066775 \nL 196.07593 20.066775 \nL 199.15031 20.066775 \nL 202.22469 20.066775 \nL 205.29907 20.066775 \nL 208.37345 20.066775 \nL 211.447831 20.066775 \nL 214.522211 20.066775 \nL 217.596591 20.066775 \nL 220.670971 20.066775 \nL 223.745351 20.066775 \nL 226.819731 20.066775 \nL 229.894112 20.066775 \nL 232.968492 20.066775 \nL 236.042872 20.066775 \nL 239.117252 20.066775 \nL 242.191632 20.066775 \nL 245.266012 20.066775 \nL 248.340393 20.066775 \nL 251.414773 20.066775 \nL 254.489153 20.066775 \nL 257.563533 20.066775 \nL 260.637913 20.066775 \nL 263.712293 20.066775 \nL 266.786674 20.066775 \nL 269.861054 20.066775 \nL 272.935434 20.066775 \nL 276.009814 20.066775 \nL 279.084194 20.066775 \nL 282.158574 20.066775 \nL 285.232955 20.066775 \nL 288.307335 20.066775 \nL 291.381715 20.066775 \nL 294.456095 20.066775 \nL 297.530475 20.066775 \nL 300.604855 20.066775 \nL 303.679236 20.066775 \nL 306.753616 20.066775 \nL 309.827996 20.066775 \nL 312.902376 20.066775 \nL 315.976756 20.066775 \nL 319.051136 20.066775 \nL 322.125517 20.066775 \nL 325.199897 20.066775 \nL 328.274277 20.066775 \nL 331.348657 20.066775 \nL 334.423037 20.066775 \nL 337.497417 20.066775 \nL 340.571798 20.066775 \nL 343.646178 20.066775 \nL 346.720558 20.066775 \nL 349.794938 20.066775 \nL 352.869318 20.066775 \n\" style=\"fill:none;stroke:#0000ff;stroke-linecap:square;stroke-width:1.5;\"/>\n   </g>\n   <g id=\"patch_3\">\n    <path d=\"M 33.2875 227.623139 \nL 33.2875 10.183139 \n\" style=\"fill:none;stroke:#000000;stroke-linecap:square;stroke-linejoin:miter;stroke-width:0.8;\"/>\n   </g>\n   <g id=\"patch_4\">\n    <path d=\"M 368.0875 227.623139 \nL 368.0875 10.183139 \n\" style=\"fill:none;stroke:#000000;stroke-linecap:square;stroke-linejoin:miter;stroke-width:0.8;\"/>\n   </g>\n   <g id=\"patch_5\">\n    <path d=\"M 33.2875 227.623139 \nL 368.0875 227.623139 \n\" style=\"fill:none;stroke:#000000;stroke-linecap:square;stroke-linejoin:miter;stroke-width:0.8;\"/>\n   </g>\n   <g id=\"patch_6\">\n    <path d=\"M 33.2875 10.183139 \nL 368.0875 10.183139 \n\" style=\"fill:none;stroke:#000000;stroke-linecap:square;stroke-linejoin:miter;stroke-width:0.8;\"/>\n   </g>\n  </g>\n </g>\n <defs>\n  <clipPath id=\"p024b77b9ae\">\n   <rect height=\"217.44\" width=\"334.8\" x=\"33.2875\" y=\"10.183139\"/>\n  </clipPath>\n </defs>\n</svg>\n",
      "image/png": "[encoded data removed]"
     },
     "metadata": {
      "needs_background": "light"
     }
    }
   ],
   "source": [
    "data = []\n",
    "for i in range(-50,50):\n",
    "    ray = Ray(d=Vec3(-50.0,i,1.0))\n",
    "    data.append(color(ray))\n",
    "\n",
    "import matplotlib.pyplot as plt\n",
    "\n",
    "plt.plot(range(-50,50), [i.r for i in data], color='red')\n",
    "plt.plot(range(-50,50), [i.g for i in data], color='green')\n",
    "plt.plot(range(-50,50), [i.b for i in data], color='blue')\n",
    "plt.show()"
   ]
  },
  {
   "cell_type": "code",
   "execution_count": 45,
   "metadata": {
    "tags": [
     "outputPrepend",
     "outputPrepend",
     "outputPrepend",
     "outputPrepend",
     "outputPrepend",
     "outputPrepend",
     "outputPrepend",
     "outputPrepend",
     "outputPrepend",
     "outputPrepend",
     "outputPrepend",
     "outputPrepend",
     "outputPrepend",
     "outputPrepend",
     "outputPrepend",
     "outputPrepend",
     "outputPrepend",
     "outputPrepend",
     "outputPrepend",
     "outputPrepend",
     "outputPrepend",
     "outputPrepend",
     "outputPrepend",
     "outputPrepend",
     "outputPrepend",
     "outputPrepend",
     "outputPrepend",
     "outputPrepend",
     "outputPrepend",
     "outputPrepend",
     "outputPrepend",
     "outputPrepend",
     "outputPrepend",
     "outputPrepend",
     "outputPrepend",
     "outputPrepend",
     "outputPrepend",
     "outputPrepend",
     "outputPrepend",
     "outputPrepend",
     "outputPrepend",
     "outputPrepend",
     "outputPrepend",
     "outputPrepend",
     "outputPrepend",
     "outputPrepend",
     "outputPrepend",
     "outputPrepend",
     "outputPrepend",
     "outputPrepend",
     "outputPrepend",
     "outputPrepend",
     "outputPrepend",
     "outputPrepend"
    ]
   },
   "outputs": [
    {
     "output_type": "stream",
     "name": "stdout",
     "text": "384 x 216\nviewport = 3.5555555555555554 x 2.0\nrect = (-1.7777777777777777,-1.0,-1.0)\n"
    }
   ],
   "source": [
    "def main():\n",
    "    ascpect_ratio = 16.0 / 9.0\n",
    "    image_width = 384\n",
    "    image_height = (int)(image_width / ascpect_ratio)\n",
    "    print(f'{image_width} x {image_height}')\n",
    "\n",
    "    image = np.zeros([image_height, image_width, 3], dtype='uint8')\n",
    "\n",
    "    viewport_height = 2.0\n",
    "    viewport_width = ascpect_ratio * viewport_height\n",
    "\n",
    "    print(f'viewport = {viewport_width} x {viewport_height}')\n",
    "\n",
    "    focal_length = 1.0\n",
    "\n",
    "    origin = Vec3(0,0,0)\n",
    "    horizontal = Vec3(viewport_width, 0, 0)\n",
    "    vertical = Vec3(0, viewport_height, 0)\n",
    "\n",
    "    lower_left_corner = origin - horizontal/2 - vertical/2 - Vec3(0,0,focal_length)\n",
    "\n",
    "    print(f'rect = ({lower_left_corner.x},{lower_left_corner.y},{lower_left_corner.z})')\n",
    "\n",
    "    for j in range(image_height-1, -1, -1):\n",
    "        for i in range(image_width):\n",
    "            u = i / (float)(image_width-1)\n",
    "            v = j / (float)(image_height-1)\n",
    "            ray = Ray(origin, lower_left_corner + u*horizontal + v*vertical - origin)\n",
    "            c = color(ray)\n",
    "            image[j, i] = [c.r, c.g, c.b]\n",
    "\n",
    "    im = PIL.Image.fromarray(image, mode='RGB')\n",
    "    im.save(\"test.jpg\")\n",
    "\n",
    "main()"
   ]
  },
  {
   "cell_type": "code",
   "execution_count": null,
   "metadata": {},
   "outputs": [],
   "source": []
  }
 ],
 "metadata": {
  "language_info": {
   "codemirror_mode": {
    "name": "ipython",
    "version": 3
   },
   "file_extension": ".py",
   "mimetype": "text/x-python",
   "name": "python",
   "nbconvert_exporter": "python",
   "pygments_lexer": "ipython3",
   "version": "3.7.7-final"
  },
  "orig_nbformat": 2,
  "kernelspec": {
   "name": "python3",
   "display_name": "Python 3"
  }
 },
 "nbformat": 4,
 "nbformat_minor": 2
}